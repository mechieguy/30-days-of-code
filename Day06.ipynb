{
 "cells": [
  {
   "cell_type": "code",
   "execution_count": 1,
   "id": "0ff23e1a-410f-4ec4-a65f-da5423dfb748",
   "metadata": {},
   "outputs": [],
   "source": [
    "def contact():\n",
    "    print(\"Contact details of school\")\n",
    "    print(\"Swaraswati Vidya Mandir\")\n",
    "    print(\"Buxar, Bihar\")\n",
    "    print(\"9660637641\")\n",
    "    print(\"Vidyapeeth@Vidyamandir.com\")"
   ]
  },
  {
   "cell_type": "code",
   "execution_count": null,
   "id": "2a0db24a-f5dc-4140-8788-2676e5a46d55",
   "metadata": {},
   "outputs": [],
   "source": [
    "for i in range(5):\n",
    "    a=input(\"Enter the name of student\")\n",
    "    b=int(input(\"Enter Marks in Mathematices\")),\n",
    "    c=int(input(\"Enter Marks in Sanskrit\")),\n",
    "    d=int(input(\"Enter Marks in English\")),\n",
    "    e=int(input(\"Enter Marks in Social\"))\n",
    "    contact()"
   ]
  },
  {
   "cell_type": "code",
   "execution_count": 19,
   "id": "5d9dda7e-36a8-4976-8070-591f44102029",
   "metadata": {},
   "outputs": [],
   "source": [
    "def my_name(fname):\n",
    "    print(fname + \" \" + \"Sharma\")"
   ]
  },
  {
   "cell_type": "code",
   "execution_count": 20,
   "id": "c0b06509-59aa-44c4-8509-f7dffdf59b5c",
   "metadata": {},
   "outputs": [
    {
     "name": "stdout",
     "output_type": "stream",
     "text": [
      "Anjali Sharma\n"
     ]
    }
   ],
   "source": [
    "my_name(\"Anjali\")"
   ]
  },
  {
   "cell_type": "markdown",
   "id": "c59fa38e-c180-4a5d-8b88-a44ee25d791f",
   "metadata": {},
   "source": [
    "#Elcetricity Bill"
   ]
  },
  {
   "cell_type": "code",
   "execution_count": 29,
   "id": "e64ea966-d513-4b1b-9faa-4a1e79d449d6",
   "metadata": {},
   "outputs": [],
   "source": [
    "def electricity_bill(n):\n",
    "    if n<=500:\n",
    "        print(\"Your Bill is\",n*5)\n",
    "    elif n>500 and n<700:\n",
    "        print(\"Your Bill is\",n*10)\n",
    "    elif n>=700 and n<1000:\n",
    "        print(\"Your Bill is\",n*15)\n",
    "    elif n>=1000:\n",
    "        print(\"Your Bill is\",n*20)"
   ]
  },
  {
   "cell_type": "code",
   "execution_count": 31,
   "id": "372e25fb-9b14-42fa-b98c-b6e31b720881",
   "metadata": {},
   "outputs": [],
   "source": [
    "def instruction():\n",
    "    print(\"last date of paying bill 2oct\")\n",
    "    print(\"Fine after 2 oct is 1000\")\n",
    "    print(\"Addres:N Block,Karol Bagh,New Delhi\")\n",
    "    "
   ]
  },
  {
   "cell_type": "code",
   "execution_count": 32,
   "id": "beeaaae3-5bca-49cb-baa5-b1046746a61d",
   "metadata": {},
   "outputs": [
    {
     "name": "stdin",
     "output_type": "stream",
     "text": [
      "Enter the name of Customer Prince Kumar\n",
      "Enter unit of electricity used 600\n"
     ]
    },
    {
     "name": "stdout",
     "output_type": "stream",
     "text": [
      "Your Bill is 6000\n",
      "last date of paying bill 2oct\n",
      "Fine after 2 oct is 1000\n",
      "Addres:N Block,Karol Bagh,New Delhi\n"
     ]
    },
    {
     "name": "stdin",
     "output_type": "stream",
     "text": [
      "Enter the name of Customer Rakesh Kumar\n",
      "Enter unit of electricity used 700\n"
     ]
    },
    {
     "name": "stdout",
     "output_type": "stream",
     "text": [
      "Your Bill is 10500\n",
      "last date of paying bill 2oct\n",
      "Fine after 2 oct is 1000\n",
      "Addres:N Block,Karol Bagh,New Delhi\n"
     ]
    },
    {
     "name": "stdin",
     "output_type": "stream",
     "text": [
      "Enter the name of Customer Kavya RAstogi\n",
      "Enter unit of electricity used 900\n"
     ]
    },
    {
     "name": "stdout",
     "output_type": "stream",
     "text": [
      "Your Bill is 13500\n",
      "last date of paying bill 2oct\n",
      "Fine after 2 oct is 1000\n",
      "Addres:N Block,Karol Bagh,New Delhi\n"
     ]
    }
   ],
   "source": [
    "for i in range(3):\n",
    "    a=input(\"Enter the name of Customer\")\n",
    "    n=int(input(\"Enter unit of electricity used\"))\n",
    "    electricity_bill(n)\n",
    "    instruction()"
   ]
  },
  {
   "cell_type": "code",
   "execution_count": null,
   "id": "d7b10885-5e5e-4af7-ac4d-801863caf83b",
   "metadata": {},
   "outputs": [],
   "source": []
  }
 ],
 "metadata": {
  "kernelspec": {
   "display_name": "Python 3 (ipykernel)",
   "language": "python",
   "name": "python3"
  },
  "language_info": {
   "codemirror_mode": {
    "name": "ipython",
    "version": 3
   },
   "file_extension": ".py",
   "mimetype": "text/x-python",
   "name": "python",
   "nbconvert_exporter": "python",
   "pygments_lexer": "ipython3",
   "version": "3.12.3"
  }
 },
 "nbformat": 4,
 "nbformat_minor": 5
}
