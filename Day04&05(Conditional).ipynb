{
 "cells": [
  {
   "cell_type": "code",
   "execution_count": 1,
   "id": "3305fb58-b34a-4885-ab0e-2c3977215f60",
   "metadata": {},
   "outputs": [
    {
     "name": "stdin",
     "output_type": "stream",
     "text": [
      "Enter the name of a student Prince Kumar\n",
      "enter the marks scored in english 85\n",
      "enter the marks scored in hindi 65\n",
      "enter the marks scored in maths 66\n",
      "enter the marks scored in science 44\n",
      "enter the marks scored in social 89\n"
     ]
    }
   ],
   "source": [
    "x= input(\"Enter the name of a student\")\n",
    "a = int(input(\"enter the marks scored in english\")) \n",
    "b= int(input(\"enter the marks scored in hindi\")) \n",
    "c= int(input(\"enter the marks scored in maths\")) \n",
    "d = int(input(\"enter the marks scored in science\")) \n",
    "e = int(input(\"enter the marks scored in social\"))\n",
    "n= ()"
   ]
  },
  {
   "cell_type": "code",
   "execution_count": 3,
   "id": "d45c92c6-1c3a-4239-97ae-b00d42bc1fcf",
   "metadata": {},
   "outputs": [
    {
     "name": "stdout",
     "output_type": "stream",
     "text": [
      "Hello World\n"
     ]
    }
   ],
   "source": [
    "print(\"Hello World\")"
   ]
  },
  {
   "cell_type": "code",
   "execution_count": 10,
   "id": "a9bc04b6-9664-428f-a5aa-f81ec612dc84",
   "metadata": {},
   "outputs": [
    {
     "name": "stdin",
     "output_type": "stream",
     "text": [
      "Enter the Percentage of a student 85\n"
     ]
    },
    {
     "name": "stdout",
     "output_type": "stream",
     "text": [
      "Grade is B\n"
     ]
    }
   ],
   "source": [
    "x= int(input(\"Enter the Percentage of a student\"))\n",
    "if x == 90:\n",
    "    print(\"Grade is A\")\n",
    "else:\n",
    "    print(\"Grade is B\")\n"
   ]
  },
  {
   "cell_type": "code",
   "execution_count": 15,
   "id": "4f44b6c1-14c1-4660-a61c-07cb6f523e0f",
   "metadata": {},
   "outputs": [
    {
     "name": "stdin",
     "output_type": "stream",
     "text": [
      "Enter the Percentage of a student 67\n"
     ]
    },
    {
     "name": "stdout",
     "output_type": "stream",
     "text": [
      "Grade is C\n"
     ]
    }
   ],
   "source": [
    "x= int(input(\"Enter the Percentage of a student\"))\n",
    "if x >= 90:\n",
    "    print(\"Grade is A\")\n",
    "if 80 <= x <= 90:\n",
    "    print(\"Grade is B\")\n",
    "else :\n",
    "    print (\"Grade is C\")"
   ]
  },
  {
   "cell_type": "code",
   "execution_count": 16,
   "id": "b72b9154-e70f-4d2c-84a3-f8cc576c485f",
   "metadata": {},
   "outputs": [
    {
     "name": "stdin",
     "output_type": "stream",
     "text": [
      "Enter the Percentage of a student 67\n"
     ]
    },
    {
     "name": "stdout",
     "output_type": "stream",
     "text": [
      "Grade is D\n"
     ]
    }
   ],
   "source": [
    "x= int(input(\"Enter the Percentage of a student\"))\n",
    "if x >= 90:\n",
    "    print(\"Grade is A\")\n",
    "elif 80 <= x <= 90:\n",
    "    print(\"Grade is B\")\n",
    "elif 70 <= x <= 80:\n",
    "    print(\"Grade is C\")\n",
    "else :\n",
    "    print (\"Grade is D\")"
   ]
  },
  {
   "cell_type": "code",
   "execution_count": null,
   "id": "a36719b0-ed05-44f5-b78c-7afbae237757",
   "metadata": {},
   "outputs": [],
   "source": [
    "## concept of loops (Day 05)"
   ]
  },
  {
   "cell_type": "code",
   "execution_count": 18,
   "id": "437fc525-1795-432e-952f-c905598bf5ab",
   "metadata": {},
   "outputs": [
    {
     "name": "stdout",
     "output_type": "stream",
     "text": [
      "1\n",
      "2\n",
      "3\n",
      "4\n",
      "5\n"
     ]
    }
   ],
   "source": [
    "i=1\n",
    "n=5\n",
    "while i<=n:\n",
    "    print(i)\n",
    "    i=i+1"
   ]
  },
  {
   "cell_type": "code",
   "execution_count": 21,
   "id": "0d9b7d37-bd90-4d9f-9295-8c7cf9b5aa6a",
   "metadata": {},
   "outputs": [
    {
     "name": "stdin",
     "output_type": "stream",
     "text": [
      "Enter the number for which we need table 9\n"
     ]
    },
    {
     "name": "stdout",
     "output_type": "stream",
     "text": [
      "9\n",
      "18\n",
      "27\n",
      "36\n",
      "45\n",
      "54\n",
      "63\n",
      "72\n",
      "81\n",
      "90\n"
     ]
    }
   ],
   "source": [
    "a=int(input(\"Enter the number for which we need table\"))\n",
    "i=1\n",
    "n=10\n",
    "while i<=n:\n",
    "    print(a*i)\n",
    "    i=i+1\n",
    "      "
   ]
  }
 ],
 "metadata": {
  "kernelspec": {
   "display_name": "Python 3 (ipykernel)",
   "language": "python",
   "name": "python3"
  },
  "language_info": {
   "codemirror_mode": {
    "name": "ipython",
    "version": 3
   },
   "file_extension": ".py",
   "mimetype": "text/x-python",
   "name": "python",
   "nbconvert_exporter": "python",
   "pygments_lexer": "ipython3",
   "version": "3.12.3"
  }
 },
 "nbformat": 4,
 "nbformat_minor": 5
}
