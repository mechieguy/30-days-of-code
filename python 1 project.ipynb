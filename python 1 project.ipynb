{
 "cells": [
  {
   "cell_type": "code",
   "execution_count": 1,
   "metadata": {},
   "outputs": [
    {
     "data": {
      "text/html": [
       "<div>\n",
       "<style scoped>\n",
       "    .dataframe tbody tr th:only-of-type {\n",
       "        vertical-align: middle;\n",
       "    }\n",
       "\n",
       "    .dataframe tbody tr th {\n",
       "        vertical-align: top;\n",
       "    }\n",
       "\n",
       "    .dataframe thead th {\n",
       "        text-align: right;\n",
       "    }\n",
       "</style>\n",
       "<table border=\"1\" class=\"dataframe\">\n",
       "  <thead>\n",
       "    <tr style=\"text-align: right;\">\n",
       "      <th></th>\n",
       "      <th>UserId</th>\n",
       "      <th>TransactionId</th>\n",
       "      <th>Year</th>\n",
       "      <th>Month</th>\n",
       "      <th>Day</th>\n",
       "      <th>Time</th>\n",
       "      <th>ItemCode</th>\n",
       "      <th>ItemDescription</th>\n",
       "      <th>NumberOfItemsPurchased</th>\n",
       "      <th>CostPerItem</th>\n",
       "      <th>SellingPricePerItem</th>\n",
       "      <th>Country</th>\n",
       "      <th>ClientKeywords</th>\n",
       "    </tr>\n",
       "  </thead>\n",
       "  <tbody>\n",
       "    <tr>\n",
       "      <th>0</th>\n",
       "      <td>278166</td>\n",
       "      <td>6355745</td>\n",
       "      <td>2019</td>\n",
       "      <td>Feb</td>\n",
       "      <td>2</td>\n",
       "      <td>12:50:00</td>\n",
       "      <td>465549</td>\n",
       "      <td>FAMILY ALBUM WHITE PICTURE FRAME</td>\n",
       "      <td>6</td>\n",
       "      <td>11.73</td>\n",
       "      <td>21.11</td>\n",
       "      <td>United Kingdom</td>\n",
       "      <td>['Senior', 'Solo Entrepreneur', '2-5 Year Clie...</td>\n",
       "    </tr>\n",
       "    <tr>\n",
       "      <th>1</th>\n",
       "      <td>337701</td>\n",
       "      <td>6283376</td>\n",
       "      <td>2018</td>\n",
       "      <td>Dec</td>\n",
       "      <td>26</td>\n",
       "      <td>09:06:00</td>\n",
       "      <td>482370</td>\n",
       "      <td>LONDON BUS COFFEE MUG</td>\n",
       "      <td>3</td>\n",
       "      <td>3.52</td>\n",
       "      <td>3.87</td>\n",
       "      <td>United Kingdom</td>\n",
       "      <td>['Middle Age', 'Corporation', '2-5 Year Client']</td>\n",
       "    </tr>\n",
       "    <tr>\n",
       "      <th>2</th>\n",
       "      <td>267099</td>\n",
       "      <td>6385599</td>\n",
       "      <td>2019</td>\n",
       "      <td>Feb</td>\n",
       "      <td>15</td>\n",
       "      <td>09:45:00</td>\n",
       "      <td>490728</td>\n",
       "      <td>SET 12 COLOUR PENCILS DOLLY GIRL</td>\n",
       "      <td>72</td>\n",
       "      <td>0.90</td>\n",
       "      <td>1.62</td>\n",
       "      <td>France</td>\n",
       "      <td>['Middle Age', 'Corporation', '2-5 Year Client']</td>\n",
       "    </tr>\n",
       "    <tr>\n",
       "      <th>3</th>\n",
       "      <td>380478</td>\n",
       "      <td>6044973</td>\n",
       "      <td>2018</td>\n",
       "      <td>Jun</td>\n",
       "      <td>22</td>\n",
       "      <td>07:14:00</td>\n",
       "      <td>459186</td>\n",
       "      <td>UNION JACK FLAG LUGGAGE TAG</td>\n",
       "      <td>3</td>\n",
       "      <td>1.73</td>\n",
       "      <td>1.90</td>\n",
       "      <td>United Kingdom</td>\n",
       "      <td>['Middle Age', 'Small Business', 'New Client']</td>\n",
       "    </tr>\n",
       "    <tr>\n",
       "      <th>4</th>\n",
       "      <td>-1</td>\n",
       "      <td>6143225</td>\n",
       "      <td>2018</td>\n",
       "      <td>Sep</td>\n",
       "      <td>10</td>\n",
       "      <td>11:58:00</td>\n",
       "      <td>1733592</td>\n",
       "      <td>WASHROOM METAL SIGN</td>\n",
       "      <td>3</td>\n",
       "      <td>3.40</td>\n",
       "      <td>5.78</td>\n",
       "      <td>United Kingdom</td>\n",
       "      <td>['Middle Age', 'Solo Entrepreneur', '2-5 Year ...</td>\n",
       "    </tr>\n",
       "  </tbody>\n",
       "</table>\n",
       "</div>"
      ],
      "text/plain": [
       "   UserId  TransactionId  Year Month  Day      Time  ItemCode  \\\n",
       "0  278166        6355745  2019   Feb    2  12:50:00    465549   \n",
       "1  337701        6283376  2018   Dec   26  09:06:00    482370   \n",
       "2  267099        6385599  2019   Feb   15  09:45:00    490728   \n",
       "3  380478        6044973  2018   Jun   22  07:14:00    459186   \n",
       "4      -1        6143225  2018   Sep   10  11:58:00   1733592   \n",
       "\n",
       "                     ItemDescription  NumberOfItemsPurchased  CostPerItem  \\\n",
       "0   FAMILY ALBUM WHITE PICTURE FRAME                       6        11.73   \n",
       "1              LONDON BUS COFFEE MUG                       3         3.52   \n",
       "2  SET 12 COLOUR PENCILS DOLLY GIRL                       72         0.90   \n",
       "3        UNION JACK FLAG LUGGAGE TAG                       3         1.73   \n",
       "4                WASHROOM METAL SIGN                       3         3.40   \n",
       "\n",
       "   SellingPricePerItem         Country  \\\n",
       "0                21.11  United Kingdom   \n",
       "1                 3.87  United Kingdom   \n",
       "2                 1.62          France   \n",
       "3                 1.90  United Kingdom   \n",
       "4                 5.78  United Kingdom   \n",
       "\n",
       "                                      ClientKeywords  \n",
       "0  ['Senior', 'Solo Entrepreneur', '2-5 Year Clie...  \n",
       "1   ['Middle Age', 'Corporation', '2-5 Year Client']  \n",
       "2   ['Middle Age', 'Corporation', '2-5 Year Client']  \n",
       "3     ['Middle Age', 'Small Business', 'New Client']  \n",
       "4  ['Middle Age', 'Solo Entrepreneur', '2-5 Year ...  "
      ]
     },
     "execution_count": 1,
     "metadata": {},
     "output_type": "execute_result"
    }
   ],
   "source": [
    "import pandas as pd\n",
    "data=pd.read_csv('transaction.csv')\n",
    "data=pd.read_csv('transaction.csv',sep=';')\n",
    "data.head()"
   ]
  },
  {
   "cell_type": "code",
   "execution_count": 2,
   "metadata": {},
   "outputs": [
    {
     "data": {
      "text/plain": [
       "(1047588, 13)"
      ]
     },
     "execution_count": 2,
     "metadata": {},
     "output_type": "execute_result"
    }
   ],
   "source": [
    "data.shape"
   ]
  },
  {
   "cell_type": "markdown",
   "metadata": {},
   "source": [
    "# Summy of the data"
   ]
  },
  {
   "cell_type": "code",
   "execution_count": 3,
   "metadata": {},
   "outputs": [
    {
     "name": "stdout",
     "output_type": "stream",
     "text": [
      "<class 'pandas.core.frame.DataFrame'>\n",
      "RangeIndex: 1047588 entries, 0 to 1047587\n",
      "Data columns (total 13 columns):\n",
      " #   Column                  Non-Null Count    Dtype  \n",
      "---  ------                  --------------    -----  \n",
      " 0   UserId                  1047588 non-null  int64  \n",
      " 1   TransactionId           1047588 non-null  int64  \n",
      " 2   Year                    1047588 non-null  int64  \n",
      " 3   Month                   1047588 non-null  object \n",
      " 4   Day                     1047588 non-null  int64  \n",
      " 5   Time                    1047588 non-null  object \n",
      " 6   ItemCode                1047588 non-null  int64  \n",
      " 7   ItemDescription         1044797 non-null  object \n",
      " 8   NumberOfItemsPurchased  1047588 non-null  int64  \n",
      " 9   CostPerItem             1047588 non-null  float64\n",
      " 10  SellingPricePerItem     1047588 non-null  float64\n",
      " 11  Country                 1047588 non-null  object \n",
      " 12  ClientKeywords          1047588 non-null  object \n",
      "dtypes: float64(2), int64(6), object(5)\n",
      "memory usage: 103.9+ MB\n"
     ]
    }
   ],
   "source": [
    "data.info()"
   ]
  },
  {
   "cell_type": "markdown",
   "metadata": {},
   "source": [
    "# working with calculation\n"
   ]
  },
  {
   "cell_type": "code",
   "execution_count": 4,
   "metadata": {},
   "outputs": [],
   "source": [
    "CostPerItem=11.73\n",
    "SellingPricePerItem=21.11\n",
    "ProfitPerItem=SellingPricePerItem-CostPerItem\n",
    "NumberOfItemsPurchased = 6\n",
    "ProfitPerTransaction=ProfitPerItem*NumberOfItemsPurchased\n",
    "\n"
   ]
  },
  {
   "cell_type": "code",
   "execution_count": 5,
   "metadata": {},
   "outputs": [
    {
     "data": {
      "text/plain": [
       "0    11.73\n",
       "1     3.52\n",
       "2     0.90\n",
       "3     1.73\n",
       "4     3.40\n",
       "Name: CostPerItem, dtype: float64"
      ]
     },
     "execution_count": 5,
     "metadata": {},
     "output_type": "execute_result"
    }
   ],
   "source": [
    "CostPerItem=data['CostPerItem']\n",
    "CostPerItem.head()"
   ]
  },
  {
   "cell_type": "code",
   "execution_count": 6,
   "metadata": {},
   "outputs": [
    {
     "data": {
      "text/plain": [
       "0    70.38\n",
       "1    10.56\n",
       "2    64.80\n",
       "3     5.19\n",
       "4    10.20\n",
       "dtype: float64"
      ]
     },
     "execution_count": 6,
     "metadata": {},
     "output_type": "execute_result"
    }
   ],
   "source": [
    "CostPerItem=data['CostPerItem']\n",
    "NumberOfItemsPurchased=data['NumberOfItemsPurchased']\n",
    "CostPerTransaction=CostPerItem*NumberOfItemsPurchased\n",
    "data['CostPerTransaction']= CostPerTransaction\n",
    "CostPerTransaction.head()"
   ]
  },
  {
   "cell_type": "code",
   "execution_count": 7,
   "metadata": {},
   "outputs": [
    {
     "ename": "NameError",
     "evalue": "name 'SalePerTransaction' is not defined",
     "output_type": "error",
     "traceback": [
      "\u001b[1;31m---------------------------------------------------------------------------\u001b[0m",
      "\u001b[1;31mNameError\u001b[0m                                 Traceback (most recent call last)",
      "\u001b[1;32m<ipython-input-7-a06b9632005a>\u001b[0m in \u001b[0;36m<module>\u001b[1;34m\u001b[0m\n\u001b[0;32m      2\u001b[0m \u001b[0mNumberOfItemsPurchased\u001b[0m\u001b[1;33m=\u001b[0m\u001b[0mdata\u001b[0m\u001b[1;33m[\u001b[0m\u001b[1;34m'NumberOfItemsPurchased'\u001b[0m\u001b[1;33m]\u001b[0m\u001b[1;33m\u001b[0m\u001b[1;33m\u001b[0m\u001b[0m\n\u001b[0;32m      3\u001b[0m \u001b[0mSalePricePerTransaction\u001b[0m\u001b[1;33m=\u001b[0m\u001b[0mSellingPricePerItem\u001b[0m\u001b[1;33m*\u001b[0m\u001b[0mNumberOfItemsPurchased\u001b[0m\u001b[1;33m\u001b[0m\u001b[1;33m\u001b[0m\u001b[0m\n\u001b[1;32m----> 4\u001b[1;33m \u001b[0mdata\u001b[0m\u001b[1;33m[\u001b[0m\u001b[1;34m'SalePerTransaction'\u001b[0m\u001b[1;33m]\u001b[0m\u001b[1;33m=\u001b[0m\u001b[0mSalePerTransaction\u001b[0m\u001b[1;33m\u001b[0m\u001b[1;33m\u001b[0m\u001b[0m\n\u001b[0m\u001b[0;32m      5\u001b[0m \u001b[0mSalePerTransaction\u001b[0m\u001b[1;33m.\u001b[0m\u001b[0mhead\u001b[0m\u001b[1;33m(\u001b[0m\u001b[1;33m)\u001b[0m\u001b[1;33m\u001b[0m\u001b[1;33m\u001b[0m\u001b[0m\n",
      "\u001b[1;31mNameError\u001b[0m: name 'SalePerTransaction' is not defined"
     ]
    }
   ],
   "source": [
    "SellingPricePerItem=data['SellingPricePerItem']\n",
    "NumberOfItemsPurchased=data['NumberOfItemsPurchased']\n",
    "SalePricePerTransaction=SellingPricePerItem*NumberOfItemsPurchased\n",
    "data['SalePerTransaction']=SalePerTransaction\n",
    "SalePerTransaction.head()"
   ]
  },
  {
   "cell_type": "code",
   "execution_count": null,
   "metadata": {},
   "outputs": [],
   "source": []
  }
 ],
 "metadata": {
  "kernelspec": {
   "display_name": "Python 3",
   "language": "python",
   "name": "python3"
  },
  "language_info": {
   "codemirror_mode": {
    "name": "ipython",
    "version": 3
   },
   "file_extension": ".py",
   "mimetype": "text/x-python",
   "name": "python",
   "nbconvert_exporter": "python",
   "pygments_lexer": "ipython3",
   "version": "3.7.6"
  }
 },
 "nbformat": 4,
 "nbformat_minor": 4
}
